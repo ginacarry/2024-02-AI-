{
 "cells": [
  {
   "cell_type": "code",
   "execution_count": 4,
   "metadata": {},
   "outputs": [
    {
     "name": "stdout",
     "output_type": "stream",
     "text": [
      "=======猜數字遊戲=======\n",
      "\n",
      "12\n",
      "猜數字遊戲1~100猜對了\n",
      "猜數字遊戲1~100猜對了\n",
      "猜數字遊戲1~100賓果,你答對了,答案是12\n",
      "遊戲結束\n"
     ]
    }
   ],
   "source": [
    "import random\n",
    "import pyinputplus as pyip\n",
    "min = 1\n",
    "max = 100\n",
    "target = random.randint(min,max)\n",
    "print(\"=======猜數字遊戲=======\\n\")\n",
    "print(target)\n",
    "while(True):\n",
    "    keyin = pyip.inputInt(f\"猜數字遊戲{min}~{max}\",min=min,max=max)\n",
    "    if keyin == target:\n",
    "        print(f'賓果,你答對了,答案是{target}')\n",
    "        break\n",
    "    else:\n",
    "        print('猜對了')\n",
    "print('遊戲結束')"
   ]
  }
 ],
 "metadata": {
  "kernelspec": {
   "display_name": "Python 3",
   "language": "python",
   "name": "python3"
  },
  "language_info": {
   "codemirror_mode": {
    "name": "ipython",
    "version": 3
   },
   "file_extension": ".py",
   "mimetype": "text/x-python",
   "name": "python",
   "nbconvert_exporter": "python",
   "pygments_lexer": "ipython3",
   "version": "2.7.0"
  }
 },
 "nbformat": 4,
 "nbformat_minor": 2
}
