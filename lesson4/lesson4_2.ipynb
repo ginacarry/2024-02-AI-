{
 "cells": [
  {
   "cell_type": "code",
   "execution_count": 2,
   "metadata": {},
   "outputs": [
    {
     "name": "stdout",
     "output_type": "stream",
     "text": [
      "不及格\n",
      "程式結束\n"
     ]
    }
   ],
   "source": [
    "score = int(input(\"請輸入學生分數\"))\n",
    "\n",
    "if score >= 60:\n",
    "    print(\"及格\")\n",
    "else:\n",
    "    print(\"不及格\")\n",
    "\n",
    "print(\"程式結束\")"
   ]
  },
  {
   "cell_type": "code",
   "execution_count": 8,
   "metadata": {},
   "outputs": [
    {
     "name": "stdout",
     "output_type": "stream",
     "text": [
      "學生分數262\n"
     ]
    }
   ],
   "source": [
    "#學生分數為300分\n",
    "#有些學生可以加5%\n",
    "#如果加分超過300分，就以300準\n",
    "scores = int(input(\"請輸入學生分數(最高300分):\"))\n",
    "is_add = input(\"學生是否符合加分(y,n):\")\n",
    "\n",
    "if is_add == \"y\":\n",
    "    scores *= 1.05\n",
    "    if scores > 300:\n",
    "        scores = 300\n",
    "\n",
    "print(f'學生總分數{round(scores)}')"
   ]
  },
  {
   "cell_type": "code",
   "execution_count": 18,
   "metadata": {},
   "outputs": [
    {
     "name": "stdout",
     "output_type": "stream",
     "text": [
      "學生總分數300\n"
     ]
    }
   ],
   "source": [
    "#學生分數為300分\n",
    "#有些學生可以加5%\n",
    "#如果加分超過300分，就以300準\n",
    "#檢查學生輸入有沒有超過300分，超過顯示提示\n",
    "#檢查學生輸入是否小於0分，超過顯示提示\n",
    "#檢查輸入的格式是否有誤\n",
    "try:\n",
    "    scores = int(input(\"請輸入學生分數(最高300分):\"))\n",
    "    if scores <= 300 and scores >= 0:\n",
    "        is_add = input(\"學生是否符合加分(y,n):\")\n",
    "\n",
    "        if is_add == \"y\":\n",
    "            scores *= 1.05\n",
    "            if scores > 300:\n",
    "                scores = 300\n",
    "\n",
    "        print(f'學生總分數{round(scores)}')\n",
    "    else:\n",
    "        print('輸入不在範圍內')\n",
    "except:\n",
    "    print(\"輸入格式錯誤\")"
   ]
  },
  {
   "cell_type": "code",
   "execution_count": 15,
   "metadata": {},
   "outputs": [
    {
     "name": "stdout",
     "output_type": "stream",
     "text": [
      "輸入格式錯誤\n"
     ]
    }
   ],
   "source": [
    "#解決raise 錯誤與法\n",
    "try:\n",
    "    money = eval(input(\"請輸入金額:\"))\n",
    "    print(money)\n",
    "except:\n",
    "    print(\"輸入格式錯誤\")\n",
    "else:\n",
    "    print(\"程式沒有錯誤\")"
   ]
  },
  {
   "cell_type": "code",
   "execution_count": 23,
   "metadata": {},
   "outputs": [
    {
     "name": "stdout",
     "output_type": "stream",
     "text": [
      "大於等於90\n"
     ]
    }
   ],
   "source": [
    "value = eval(input('請輸入數值:'))\n",
    "if value < 60:\n",
    "    print('小於60')\n",
    "elif value >= 60 and value < 80:\n",
    "    print('在60和80之間')\n",
    "elif value >= 80 and value < 90:\n",
    "    print('在80和90之間')\n",
    "else:\n",
    "    print(\"大於等於90\")"
   ]
  }
 ],
 "metadata": {
  "kernelspec": {
   "display_name": "Python 3",
   "language": "python",
   "name": "python3"
  },
  "language_info": {
   "codemirror_mode": {
    "name": "ipython",
    "version": 3
   },
   "file_extension": ".py",
   "mimetype": "text/x-python",
   "name": "python",
   "nbconvert_exporter": "python",
   "pygments_lexer": "ipython3",
   "version": "2.7.0"
  }
 },
 "nbformat": 4,
 "nbformat_minor": 2
}
