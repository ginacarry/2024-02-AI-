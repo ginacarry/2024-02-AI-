{
 "cells": [
  {
   "cell_type": "code",
   "execution_count": null,
   "metadata": {},
   "outputs": [],
   "source": [
    "def calculate_bmi(height:int, weight:int) -> float:\n",
    "    # 計算 BMI，公式：BMI = 體重（kg）/ 身高（米）的平方\n",
    "    height_m = height / 100  # 將身高從厘米換算為米\n",
    "    bmi = weight / (height_m ** 2)\n",
    "    return bmi\n",
    "\n",
    "def bmi_advice(bmi:float) -> str:\n",
    "    # 提供建議\n",
    "    if bmi < 18.5:\n",
    "        return \"體重過輕\"\n",
    "    elif 18.5 <= bmi < 24:\n",
    "        return \"正常範圍\"\n",
    "    elif 24 <= bmi < 27:\n",
    "        return \"過重\"\n",
    "    elif 27 <= bmi < 30:\n",
    "        return \"輕度肥胖\"\n",
    "    else:\n",
    "        return \"重度肥胖\"\n",
    "\n",
    "names:list[dict] = [\n",
    "    {'name':'徐xx','height':178,'weight':78},\n",
    "    {'name':'王xx','height':168,'weight':75},\n",
    "    {'name':'張xx','height':183,'weight':78},\n",
    "]\n",
    "\n",
    "for person in names:\n",
    "    bmi:float = calculate_bmi(person['height'], person['weight'])\n",
    "    advice:str = bmi_advice(bmi)\n",
    "    print(f\"{person['name']}的 BMI 為：{bmi:.2f}，屬於'{advice}'範疇。\")"
   ]
  }
 ],
 "metadata": {
  "kernelspec": {
   "display_name": "Python 3",
   "language": "python",
   "name": "python3"
  },
  "language_info": {
   "name": "python",
   "version": "3.10.13"
  }
 },
 "nbformat": 4,
 "nbformat_minor": 2
}
