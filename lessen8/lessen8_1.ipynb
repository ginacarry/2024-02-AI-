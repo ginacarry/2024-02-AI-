def inputloat(prompt:str,min:float,max:float)->float:
        while(True):
            value:float = float(input(prompt))
            if value >= min and value <= max:
                return value
            else:
                 print("輸入的範圍有問題")

height = inputFloat("請輸入身高:"min=0,max=300)