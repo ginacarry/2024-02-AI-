{
 "cells": [
  {
   "cell_type": "code",
   "execution_count": 4,
   "metadata": {},
   "outputs": [
    {
     "name": "stdout",
     "output_type": "stream",
     "text": [
      "半徑:100.00,圓面積:31415.927\n"
     ]
    }
   ],
   "source": [
    "#計算圓面積\n",
    "import math\n",
    "radius = eval(input(\"請輸入半徑:\"))\n",
    "#PI = 3.1415926\n",
    "area = math.pi * radius ** 2\n",
    "print(f'半徑:{radius:.2f},圓面積:{area:.3f}')"
   ]
  },
  {
   "cell_type": "code",
   "execution_count": 20,
   "metadata": {},
   "outputs": [
    {
     "name": "stdout",
     "output_type": "stream",
     "text": [
      "姓名:ii,身高(公尺):1.73,體重(公斤):70.00,BMI:23.39\n"
     ]
    }
   ],
   "source": [
    "name = input(\"請輸入姓名\")\n",
    "height = eval(input(\"請輸入身高\"))\n",
    "weight = eval(input(\"請輸入體重\"))\n",
    "# BMI = 體重(公斤) / 身高2(公尺2)\n",
    "bmi = weight / (height ** 2)\n",
    "print(f'姓名:{name},身高(公尺):{height:.2f},體重(公斤):{weight:.2f},BMI:{bmi:.2f}')"
   ]
  },
  {
   "cell_type": "code",
   "execution_count": 8,
   "metadata": {},
   "outputs": [
    {
     "name": "stdout",
     "output_type": "stream",
     "text": [
      "身高(公尺):1.50,體重(公斤):90.00,BMI:40.00\n",
      "重度肥胖\n"
     ]
    }
   ],
   "source": [
    "try:\n",
    "    height = eval(input(\"請輸入身高\"))\n",
    "    weight = eval(input(\"請輸入體重\"))\n",
    "    # BMI = 體重(公斤) / 身高2(公尺2)\n",
    "    bmi = weight / (height ** 2)\n",
    "    print(f'身高(公尺):{height:.2f},體重(公斤):{weight:.2f},BMI:{bmi:.2f}')\n",
    "    if bmi < 18.5:\n",
    "        print(\"體重過輕\")\n",
    "    elif bmi >= 18.5 and bmi < 24:\n",
    "        print(\"體重正常\")\n",
    "    elif bmi >= 24 and bmi < 27:\n",
    "        print(\"體重過重\")\n",
    "    elif bmi >= 27 and bmi < 30:\n",
    "        print(\"輕度肥胖\")\n",
    "    elif bmi >= 30 and bmi < 35:\n",
    "        print(\"中度肥胖\")\n",
    "    else:\n",
    "        print(\"重度肥胖\")\n",
    "except:\n",
    "    print(\"格式錯誤\")\n"
   ]
  }
 ],
 "metadata": {
  "kernelspec": {
   "display_name": "Python 3",
   "language": "python",
   "name": "python3"
  },
  "language_info": {
   "codemirror_mode": {
    "name": "ipython",
    "version": 3
   },
   "file_extension": ".py",
   "mimetype": "text/x-python",
   "name": "python",
   "nbconvert_exporter": "python",
   "pygments_lexer": "ipython3",
   "version": "3.10.13"
  }
 },
 "nbformat": 4,
 "nbformat_minor": 2
}
